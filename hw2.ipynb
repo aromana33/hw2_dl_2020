{
  "nbformat": 4,
  "nbformat_minor": 0,
  "metadata": {
    "kernelspec": {
      "display_name": "Python 3",
      "language": "python",
      "name": "python3"
    },
    "language_info": {
      "codemirror_mode": {
        "name": "ipython",
        "version": 3
      },
      "file_extension": ".py",
      "mimetype": "text/x-python",
      "name": "python",
      "nbconvert_exporter": "python",
      "pygments_lexer": "ipython3",
      "version": "3.7.7"
    },
    "colab": {
      "name": "hw2.ipynb",
      "provenance": []
    },
    "accelerator": "GPU"
  },
  "cells": [
    {
      "cell_type": "markdown",
      "metadata": {
        "id": "b4ZD-P9wpFGu"
      },
      "source": [
        "# Домашнее задание 2. Классификация, детекция."
      ]
    },
    {
      "cell_type": "markdown",
      "metadata": {
        "id": "aaciLcSApFGu"
      },
      "source": [
        "Оценка за часть 1 и часть 2 в этом дз -- по 5 баллов."
      ]
    },
    {
      "cell_type": "markdown",
      "metadata": {
        "id": "xfw3_Bitp5bk"
      },
      "source": [
        "Выполнила **Александра Романенко** (ИАД-4) и, надеюсь, в этот раз загрузила нужный файл с первого раза ¯\\_(ツ)_/¯\n"
      ]
    },
    {
      "cell_type": "markdown",
      "metadata": {
        "id": "rDiNB6kxpFGu"
      },
      "source": [
        "## Часть 1. Классификация\n",
        "\n",
        "В этом задании потребуется обучить классификатор изображений. Будем работать с датасетом, название которого раскрывать не будем. Можете посмотреть самостоятельно на картинки, которые в датасете есть. В нём 200 классов и около 5 тысяч картинок на каждый класс. Классы пронумерованы, как нетрудно догадаться, от 0 до 199. Скачать датасет можно вот [тут](https://yadi.sk/d/BNR41Vu3y0c7qA).\n",
        "\n",
        "Структура датасета простая -- есть директории train и val, в которых лежат обучающие и валидационные данные. В train/ и val/ лежат директориии, соответствующие классам изображений, в которых лежат собственно сами изображения.\n",
        " \n",
        "__Задание__. Добейтесь accuracy **не менее 0.44**. Напишите краткий отчёт о проделанных экспериментах. Что сработало и что не сработало? Почему вы решили, сделать так, а не иначе? Обязательно указывайте ссылки на чужой код, если вы его используете. Обязательно ссылайтесь на статьи/блогпосты/вопросы на stackoverflow/видосы от (индийских) ютуберов/курсы/подсказки от Дяди Васи и прочие дополнительные материалы, если вы их используете. \n",
        "\n",
        "В коде ниже необходимо, чтобы код проходил все `assert`'ы.\n",
        "\n",
        "Необходимо написать функцию `predict` по шаблону ниже. Эта функция принимает на вход модель, даталоадер с валидационнами данными, criterion для подсчёта лосса и device, на котором будут производиться вычисления (определён ниже) и возвращает список лоссов по всем объектам, список из предсказанных классов для каждого объекта из из даталоалера и список из настоящих классов для каждого объекта в даталоадере (и именно в таком порядке).\n",
        "\n",
        "__Использовать внешние данные для обучения строго запрещено__. Можно использовать предобученные модели из `torchvision`.\n",
        "\n",
        "__Критерии оценки__: Оценка вычисляется по простой формуле: min(5, 5 * Ваша accuracy / 0.44). Оценка округляется до десятых по арифметическим правилам.\n",
        "\n",
        "__Советы и указания__:\n",
        " - Наверняка вам потребуется много гуглить о классификации и о том, как заставить её работать. Это нормально, все гуглят. Но не забывайте, что нужно быть готовым за скатанный код отвечать на защите :)\n",
        " - Используйте аугментации. Для этого пользуйтесь модулем torchvision.transforms или библиотекой [albumentations](https://github.com/albumentations-team/albumentations)\n",
        " - (ещё раз) Можно файнтюнить предобученные модели из `torchvision`.\n",
        " - Рекомендуем написать вам сначала класс-датасет (или воспользоваться классом ImageFolder), который возвращает картинки и соответствующие им классы, а затем функции для трейна по шаблонам ниже. Однако делать это мы не заставляем. Если вам так неудобно, то можете писать код в удобном стиле. Однако учтите, что чрезмерное изменение нижеперечисленных шаблонов увеличит количество вопросов к вашему коду и повысит вероятность вызова на защиту :)\n",
        " - Валидируйте. Трекайте ошибки как можно раньше, чтобы не тратить время впустую.\n",
        " - Чтобы отладить код, пробуйте обучаться на маленькой части датасета. Когда вы поняли, что смогли всё отдебажить, переходите обучению по всему датасету\n",
        " - На каждый запуск делайте ровно одно изменение в модели/аугментации/оптимайзере, чтобы понять, что и как влияет на результат.\n",
        " - Фиксируйте random seed.\n",
        " - Начинайте с простых моделей и постепенно переходите к сложным. Обучение лёгких моделей экономит много времени.\n",
        " - Ставьте расписание на learning rate. Уменьшайте его, когда лосс на валидации перестаёт убывать.\n",
        " - Советуем использовать гпу. Если у вас его нет, используйте google colab. Если вам неудобно его использовать на постоянной основе, напишите и отладьте весь код локально на CPU, а затем запустите уже написанный ноутбук в колабе. Авторское решение задания достигает требуемой точности в колабе за 15 минут обучения.\n",
        " \n",
        "Good luck & have fun! :)"
      ]
    },
    {
      "cell_type": "markdown",
      "metadata": {
        "id": "5i1RXULd2Mpa"
      },
      "source": [
        "## ------------------------------------------------------------------------------------------\n",
        "Я долго пыталась с яндексом, но легче оказалось закинуть на дропбокс:)"
      ]
    },
    {
      "cell_type": "code",
      "metadata": {
        "id": "esxiZK7QuKGz",
        "outputId": "bdbf44f7-f8a5-4342-80c8-4a12b5766609",
        "colab": {
          "base_uri": "https://localhost:8080/"
        }
      },
      "source": [
        "! wget https://www.dropbox.com/s/pyfe9tqzjkvvaxu/dataset.zip?dl=0\n",
        "! unzip -q dataset.zip?dl=0"
      ],
      "execution_count": 1,
      "outputs": [
        {
          "output_type": "stream",
          "text": [
            "--2020-11-25 16:04:06--  https://www.dropbox.com/s/vc742zt4kfdanf1/dataset.zip?dl=0\n",
            "Resolving www.dropbox.com (www.dropbox.com)... 162.125.1.1, 2620:100:6016:1::a27d:101\n",
            "Connecting to www.dropbox.com (www.dropbox.com)|162.125.1.1|:443... connected.\n",
            "HTTP request sent, awaiting response... 301 Moved Permanently\n",
            "Location: /s/raw/vc742zt4kfdanf1/dataset.zip [following]\n",
            "--2020-11-25 16:04:06--  https://www.dropbox.com/s/raw/vc742zt4kfdanf1/dataset.zip\n",
            "Reusing existing connection to www.dropbox.com:443.\n",
            "HTTP request sent, awaiting response... 302 Found\n",
            "Location: https://uc33996a0c17df720f895dc3897e.dl.dropboxusercontent.com/cd/0/inline/BD4hSbkbVDysybUbZsF1DvbqwVr1OB13zuh_eS5JgX4IWK4xrlF0MG4QEQ8DayakvGMwOnx_Xu4dd3nxO-KTHfgR6NjvdKs5QUha5ckYIO6IOfukU7bwN-OS0FzrD1OAD8o/file# [following]\n",
            "--2020-11-25 16:04:06--  https://uc33996a0c17df720f895dc3897e.dl.dropboxusercontent.com/cd/0/inline/BD4hSbkbVDysybUbZsF1DvbqwVr1OB13zuh_eS5JgX4IWK4xrlF0MG4QEQ8DayakvGMwOnx_Xu4dd3nxO-KTHfgR6NjvdKs5QUha5ckYIO6IOfukU7bwN-OS0FzrD1OAD8o/file\n",
            "Resolving uc33996a0c17df720f895dc3897e.dl.dropboxusercontent.com (uc33996a0c17df720f895dc3897e.dl.dropboxusercontent.com)... 162.125.1.15, 2620:100:6016:15::a27d:10f\n",
            "Connecting to uc33996a0c17df720f895dc3897e.dl.dropboxusercontent.com (uc33996a0c17df720f895dc3897e.dl.dropboxusercontent.com)|162.125.1.15|:443... connected.\n",
            "HTTP request sent, awaiting response... 302 Found\n",
            "Location: /cd/0/inline2/BD6PjEAFq9A2P-wTsD-ZWYmt0L74KbbyTzvn3i9EUWiySMXd0vRs6v6-w-W-FB2DrYa3vXH3zqSaWPGVUO8PX2epeHS-PptZpdDWlWxl5ySP5bP2OZEmXZci7p5YAcCNxN1t9FCkiIMBnku_-pZZNzXQVh3mdqKGYji8z-8zGZ8TdVHii1PfIP6RDOzGgE0KPB6HmYgxOeDZP4u7bS3EiUzVUOsL8jgyaa9uowN3MbkdkoDhLmTUE16Ya_JuRBrieJB5DW_xOnfTUhtq43-mL_GpVJtJbZJ_P-uT_AxeYrORqOJup6j7Uv7PMBwqCFO-jV1dknqvW7LUZktAmwcVYmyaXZPo3OVkb9GJUOGllk4vxQ/file [following]\n",
            "--2020-11-25 16:04:07--  https://uc33996a0c17df720f895dc3897e.dl.dropboxusercontent.com/cd/0/inline2/BD6PjEAFq9A2P-wTsD-ZWYmt0L74KbbyTzvn3i9EUWiySMXd0vRs6v6-w-W-FB2DrYa3vXH3zqSaWPGVUO8PX2epeHS-PptZpdDWlWxl5ySP5bP2OZEmXZci7p5YAcCNxN1t9FCkiIMBnku_-pZZNzXQVh3mdqKGYji8z-8zGZ8TdVHii1PfIP6RDOzGgE0KPB6HmYgxOeDZP4u7bS3EiUzVUOsL8jgyaa9uowN3MbkdkoDhLmTUE16Ya_JuRBrieJB5DW_xOnfTUhtq43-mL_GpVJtJbZJ_P-uT_AxeYrORqOJup6j7Uv7PMBwqCFO-jV1dknqvW7LUZktAmwcVYmyaXZPo3OVkb9GJUOGllk4vxQ/file\n",
            "Reusing existing connection to uc33996a0c17df720f895dc3897e.dl.dropboxusercontent.com:443.\n",
            "HTTP request sent, awaiting response... 200 OK\n",
            "Length: 268733640 (256M) [application/zip]\n",
            "Saving to: ‘dataset.zip?dl=0.1’\n",
            "\n",
            "dataset.zip?dl=0.1  100%[===================>] 256.28M  70.7MB/s    in 3.6s    \n",
            "\n",
            "2020-11-25 16:04:11 (70.7 MB/s) - ‘dataset.zip?dl=0.1’ saved [268733640/268733640]\n",
            "\n",
            "replace __MACOSX/._dataset? [y]es, [n]o, [A]ll, [N]one, [r]ename: y\n",
            "replace __MACOSX/dataset/._dataset? [y]es, [n]o, [A]ll, [N]one, [r]ename: y\n",
            "replace __MACOSX/dataset/dataset/._train? [y]es, [n]o, [A]ll, [N]one, [r]ename: y\n",
            "replace __MACOSX/dataset/dataset/._val? [y]es, [n]o, [A]ll, [N]one, [r]ename: y\n",
            "replace __MACOSX/dataset/dataset/train/._class_155? [y]es, [n]o, [A]ll, [N]one, [r]ename: y\n",
            "replace __MACOSX/dataset/dataset/train/._class_152? [y]es, [n]o, [A]ll, [N]one, [r]ename: y\n",
            "replace __MACOSX/dataset/dataset/train/._class_199? [y]es, [n]o, [A]ll, [N]one, [r]ename: y\n",
            "replace __MACOSX/dataset/dataset/train/._class_190? [y]es, [n]o, [A]ll, [N]one, [r]ename: y\n",
            "replace __MACOSX/dataset/dataset/train/._class_164? [y]es, [n]o, [A]ll, [N]one, [r]ename: y\n",
            "replace __MACOSX/dataset/dataset/train/._class_163? [y]es, [n]o, [A]ll, [N]one, [r]ename: y\n",
            "replace __MACOSX/dataset/dataset/train/._class_197? [y]es, [n]o, [A]ll, [N]one, [r]ename: "
          ],
          "name": "stdout"
        }
      ]
    },
    {
      "cell_type": "markdown",
      "metadata": {
        "id": "YIW5uDSy2FxU"
      },
      "source": [
        "Проверим, что в папочке все нормик:"
      ]
    },
    {
      "cell_type": "code",
      "metadata": {
        "id": "zl9zSklu1xgB",
        "outputId": "df18e58a-4a4d-4935-eacd-881e666121f8",
        "colab": {
          "base_uri": "https://localhost:8080/"
        }
      },
      "source": [
        "!ls ./dataset/dataset"
      ],
      "execution_count": 2,
      "outputs": [
        {
          "output_type": "stream",
          "text": [
            "train  val\n"
          ],
          "name": "stdout"
        }
      ]
    },
    {
      "cell_type": "markdown",
      "metadata": {
        "id": "S609q6AG2fy5"
      },
      "source": [
        "Я решила не писать класс MyDataset, а воспользоваться имэджфолдером, как на семинаре"
      ]
    },
    {
      "cell_type": "code",
      "metadata": {
        "id": "fki4k4oqpFGv"
      },
      "source": [
        "import torch\n",
        "import torchvision\n",
        "from torch import nn\n",
        "from torch.nn import functional as F\n",
        "import numpy as np\n",
        "# You may add any imports you need\n",
        "\n",
        "import random\n",
        "import glob\n",
        "import sys\n",
        "\n",
        "import torchvision.models\n",
        "from torchvision.datasets import ImageFolder\n",
        "from torchvision.transforms import Resize, Normalize, ToTensor, Compose\n",
        "\n",
        "import numpy as np\n",
        "from tqdm import tqdm\n",
        "import matplotlib.pyplot as plt"
      ],
      "execution_count": 3,
      "outputs": []
    },
    {
      "cell_type": "markdown",
      "metadata": {
        "id": "Fy2P3wO03lFS"
      },
      "source": [
        "В привычной манере, прём красивый готовый код с семинаров (намбер 5) =)"
      ]
    },
    {
      "cell_type": "code",
      "metadata": {
        "id": "Mo_vBDWdpFGv"
      },
      "source": [
        "train_transform = Compose([Resize((224, 224)), ToTensor(), Normalize((0.5, 0.5, 0.5), (1, 1, 1)), ])\n",
        "val_transform = Compose([Resize((224, 224)), ToTensor(), Normalize((0.5, 0.5, 0.5), (1, 1, 1)), ])\n",
        "# YOU CAN DEFINE AUGMENTATIONS HERE\n",
        "\n",
        "train_dataset = ImageFolder(\"./dataset/dataset/train\", transform=train_transform)\n",
        "val_dataset = ImageFolder(\"./dataset/dataset/val\", transform=val_transform)\n",
        "# REPLACE ./dataset/dataset WITH THE FOLDER WHERE YOU DOWNLOADED AND UNZIPPED THE DATASET\n",
        "# OR USE torchvision.datasets.ImageFolder INSTEAD OF MyDataset -- И Я ТАКИ ТАК И СДЕЛАЮ!)"
      ],
      "execution_count": 4,
      "outputs": []
    },
    {
      "cell_type": "code",
      "metadata": {
        "id": "AjGvfTM_pFGv",
        "outputId": "fcbeb4c6-2334-45e0-f130-5a31663bdcf1",
        "colab": {
          "base_uri": "https://localhost:8080/"
        }
      },
      "source": [
        "# Just very simple checks\n",
        "assert isinstance(train_dataset[0], tuple)\n",
        "assert len(train_dataset[0]) == 2\n",
        "assert isinstance(train_dataset[1][1], int)\n",
        "print(\"tests passed\")"
      ],
      "execution_count": 5,
      "outputs": [
        {
          "output_type": "stream",
          "text": [
            "tests passed\n"
          ],
          "name": "stdout"
        }
      ]
    },
    {
      "cell_type": "markdown",
      "metadata": {
        "id": "CEYR8VER3tpt"
      },
      "source": [
        "УРАААААААААА!!!!! тестс пассд!!!!"
      ]
    },
    {
      "cell_type": "code",
      "metadata": {
        "id": "QcJvLaFNpFGv"
      },
      "source": [
        "import tqdm\n",
        "from sklearn.metrics import accuracy_score\n",
        "\n",
        "def train_one_epoch(model, train_dataloader, criterion, optimizer, device=\"cuda:0\", return_accuracy=False):\n",
        "    #model.train()\n",
        "    model = model.to(device).train() # немного меняю исходную, переношу на куду\n",
        "    # готовим почву для всех метрик, которые будут считаться\n",
        "    total_loss = 0\n",
        "    num_batches = 0\n",
        "    all_losses = []\n",
        "    total_predictions = np.array([])\n",
        "    total_labels = np.array([])\n",
        "    for images, labels in train_dataloader:\n",
        "        # Переносим батч на ГПУ\n",
        "        images = images.to(device)\n",
        "        labels = labels.to(device)\n",
        "        # Получаем результаты модели\n",
        "        predicted = model(images)\n",
        "        # Узнаем и запоминаем лосс\n",
        "        loss = criterion(predicted, labels)\n",
        "        # Update weights and optimizer operations\n",
        "        loss.backward()\n",
        "        optimizer.step()\n",
        "        optimizer.zero_grad()\n",
        "        # Узнаем и запечатляем все метрики в тоталах\n",
        "        total_loss += loss.item()\n",
        "        total_predictions = np.append(total_predictions, predicted.argmax(1).cpu().detach().numpy())\n",
        "        total_labels = np.append(total_labels, labels.cpu().detach().numpy())\n",
        "        num_batches += 1\n",
        "        all_losses.append(loss.detach().item())\n",
        "    \n",
        "    # Подсчет и вывод аккураси\n",
        "    accuracy_train = accuracy_score(total_labels, total_predictions) # беру аккураси скор, потому что дальше в ассертах она и это и правда удобней)\n",
        "    print(\"Accuracy_train:\", round(accuracy_train * 100, 4))\n",
        "    if return_accuracy:\n",
        "      return accuracy_train, all_losses\n",
        "    else:\n",
        "      return all_losses\n",
        "\n",
        "\n",
        "def predict(model, val_dataloader, criterion, device=\"cuda:0\"):\n",
        "    #model.eval()\n",
        "    model.to(device).eval() # немного меняю исходную, переношу на куду\n",
        "    # готовим почву для всех метрик, которые будут считаться\n",
        "    total_loss = 0\n",
        "    num_batches = 0\n",
        "    total_predictions = np.array([])\n",
        "    total_labels = np.array([])\n",
        "    # Не буду писать комментарии дальше, все аналогично прошлой функции\n",
        "    for images, labels in val_dataloader:\n",
        "        images = images.to(device)\n",
        "        labels = labels.to(device)\n",
        "        predicted = model(images)\n",
        "        loss = criterion(predicted, labels)\n",
        "        \n",
        "        accuracy = (predicted.argmax(1) == labels).float().mean()\n",
        "        total_loss += loss.item()\n",
        "        total_predictions = np.append(total_predictions, predicted.argmax(1).cpu().detach().numpy())\n",
        "        total_labels = np.append(total_labels, labels.cpu().detach().numpy())\n",
        "        num_batches += 1\n",
        "    metrics = {'loss': total_loss / num_batches}\n",
        "    accuracy_val = accuracy_score(total_predictions, total_labels)\n",
        "    print(\"Accuracy_val:\", round(accuracy_val * 100, 4) )\n",
        "    #return losses, predicted_classes, true_classes \n",
        "    return total_loss, total_predictions, total_labels # изменяю изначальный ритерн, потому что переменные называла иначе\n",
        "\n",
        "\n",
        "def train(model, train_dataloader, val_dataloader, criterion, optimizer, device=\"cuda:0\", n_epochs=5, scheduler=None):\n",
        "    model.to(device)\n",
        "    train_losses = []\n",
        "    eval_losses = []\n",
        "    for epoch in tqdm.tqdm(range(n_epochs)):\n",
        "        # Train, evaluate, print accuracy, make a step of scheduler or whatever you want... I WANNA DIE\n",
        "        # Эпоха на трейне\n",
        "        print(f\"Train Epoch: {epoch}\")\n",
        "        train_loss = train_one_epoch(\n",
        "            model=model,\n",
        "            train_dataloader=train_dataloader,\n",
        "            optimizer=optimizer,\n",
        "            criterion=criterion\n",
        "        )\n",
        "        # Лосс на трейне сохранили\n",
        "        train_losses.extend(train_losses)\n",
        "\n",
        "        # Эпоха на вале\n",
        "        print(f\"Validation Epoch: {epoch}\")\n",
        "        with torch.no_grad():\n",
        "            validation_loss, predicted_classes, true_classes = predict(\n",
        "                model=model, \n",
        "                val_dataloader=val_dataloader, \n",
        "                criterion=criterion\n",
        "                )\n",
        "        # Лосс на вале сохранили\n",
        "        eval_losses.append(validation_loss)\n",
        "\n",
        "    return train_losses, eval_losses"
      ],
      "execution_count": 31,
      "outputs": []
    },
    {
      "cell_type": "markdown",
      "metadata": {
        "id": "yT01eRKKFqCE"
      },
      "source": [
        "Возьмем предобученный резнет, заморозим все параметры и обучим последний линейный слой:"
      ]
    },
    {
      "cell_type": "code",
      "metadata": {
        "id": "zlFWzmh0GURB",
        "outputId": "ad48e009-5ef6-4b13-f0d9-fc85febd2080",
        "colab": {
          "base_uri": "https://localhost:8080/"
        }
      },
      "source": [
        " torchvision.models"
      ],
      "execution_count": 7,
      "outputs": [
        {
          "output_type": "execute_result",
          "data": {
            "text/plain": [
              "<module 'torchvision.models' from '/usr/local/lib/python3.6/dist-packages/torchvision/models/__init__.py'>"
            ]
          },
          "metadata": {
            "tags": []
          },
          "execution_count": 7
        }
      ]
    },
    {
      "cell_type": "code",
      "metadata": {
        "id": "E58COv-_Fo-s"
      },
      "source": [
        "from torchvision.models import resnet18\n",
        "\n",
        "# Загрузить предобученную сеть \n",
        "model = resnet18(pretrained=True)\n",
        "# Заморозим параметры\n",
        "for param in model.parameters():\n",
        "    param.requires_grad = False\n",
        "# В нашем случае последний слой должен выдать 200 классов\n",
        "model.fc = nn.Linear(512, 200)"
      ],
      "execution_count": 8,
      "outputs": []
    },
    {
      "cell_type": "code",
      "metadata": {
        "scrolled": true,
        "id": "zz2akFF8pFGv"
      },
      "source": [
        "optimizer = torch.optim.Adam(model.fc.parameters(), 1e-4)\n",
        "train_dataloader = torch.utils.data.DataLoader(train_dataset, batch_size=150, shuffle=True)\n",
        "val_dataloader = torch.utils.data.DataLoader(val_dataset, batch_size=150, shuffle=True)\n",
        "criterion = nn.CrossEntropyLoss()\n",
        "#scheduler = # LR SCHEDULE THAT YOU PROBABLY CHOOSE\n",
        "n_epochs = 5\n",
        "device = torch.device(\"cuda:0\") if torch.cuda.is_available() else torch.device(\"cpu\")"
      ],
      "execution_count": 11,
      "outputs": []
    },
    {
      "cell_type": "markdown",
      "metadata": {
        "id": "l4MFfDkepFGv"
      },
      "source": [
        "Простой тест на проверку правильности написанного кода"
      ]
    },
    {
      "cell_type": "code",
      "metadata": {
        "id": "Z2JvXc5HpFGv",
        "outputId": "46180569-a4c6-4bba-b9bc-b80c20dd9176",
        "colab": {
          "base_uri": "https://localhost:8080/"
        }
      },
      "source": [
        "all_losses, predicted_labels, true_labels = predict(model, val_dataloader, criterion, device)\n",
        "assert len(predicted_labels) == len(val_dataset)\n",
        "accuracy = accuracy_score(predicted_labels, true_labels)\n",
        "print(\"tests passed\")"
      ],
      "execution_count": 10,
      "outputs": [
        {
          "output_type": "stream",
          "text": [
            "Accuracy_val: 0.44\n",
            "tests passed\n"
          ],
          "name": "stdout"
        }
      ]
    },
    {
      "cell_type": "markdown",
      "metadata": {
        "id": "eRAAi7OjHYcP"
      },
      "source": [
        "Снова ура!!!"
      ]
    },
    {
      "cell_type": "markdown",
      "metadata": {
        "id": "gW0akqhNpFGv"
      },
      "source": [
        "Запустить обучение можно в ячейке ниже."
      ]
    },
    {
      "cell_type": "code",
      "metadata": {
        "id": "s_Nolr1ZpFGv",
        "outputId": "cef7583f-3096-40b9-a88a-92f4e86c5d42",
        "colab": {
          "base_uri": "https://localhost:8080/"
        }
      },
      "source": [
        "train(model, train_dataloader, val_dataloader, criterion, optimizer, device, n_epochs)"
      ],
      "execution_count": 33,
      "outputs": [
        {
          "output_type": "stream",
          "text": [
            "\n",
            "\n",
            "  0%|          | 0/5 [00:00<?, ?it/s]\u001b[A\u001b[A"
          ],
          "name": "stderr"
        },
        {
          "output_type": "stream",
          "text": [
            "Train Epoch: 0\n",
            "Accuracy_train: 58.219\n",
            "Validation Epoch: 0\n"
          ],
          "name": "stdout"
        },
        {
          "output_type": "stream",
          "text": [
            "\n",
            "\n",
            " 20%|██        | 1/5 [05:07<20:31, 307.93s/it]\u001b[A\u001b[A"
          ],
          "name": "stderr"
        },
        {
          "output_type": "stream",
          "text": [
            "Accuracy_val: 56.61\n",
            "Train Epoch: 1\n",
            "Accuracy_train: 58.885\n",
            "Validation Epoch: 1\n"
          ],
          "name": "stdout"
        },
        {
          "output_type": "stream",
          "text": [
            "\n",
            "\n",
            " 40%|████      | 2/5 [10:16<15:24, 308.07s/it]\u001b[A\u001b[A"
          ],
          "name": "stderr"
        },
        {
          "output_type": "stream",
          "text": [
            "Accuracy_val: 56.95\n",
            "Train Epoch: 2\n",
            "Accuracy_train: 59.432\n",
            "Validation Epoch: 2\n"
          ],
          "name": "stdout"
        },
        {
          "output_type": "stream",
          "text": [
            "\n",
            "\n",
            " 60%|██████    | 3/5 [15:25<10:16, 308.32s/it]\u001b[A\u001b[A"
          ],
          "name": "stderr"
        },
        {
          "output_type": "stream",
          "text": [
            "Accuracy_val: 57.18\n",
            "Train Epoch: 3\n",
            "Accuracy_train: 59.955\n",
            "Validation Epoch: 3\n"
          ],
          "name": "stdout"
        },
        {
          "output_type": "stream",
          "text": [
            "\n",
            "\n",
            " 80%|████████  | 4/5 [20:34<05:08, 308.57s/it]\u001b[A\u001b[A"
          ],
          "name": "stderr"
        },
        {
          "output_type": "stream",
          "text": [
            "Accuracy_val: 57.68\n",
            "Train Epoch: 4\n",
            "Accuracy_train: 60.376\n",
            "Validation Epoch: 4\n"
          ],
          "name": "stdout"
        },
        {
          "output_type": "stream",
          "text": [
            "\n",
            "\n",
            "100%|██████████| 5/5 [25:43<00:00, 308.67s/it]"
          ],
          "name": "stderr"
        },
        {
          "output_type": "stream",
          "text": [
            "Accuracy_val: 58.2\n"
          ],
          "name": "stdout"
        },
        {
          "output_type": "stream",
          "text": [
            "\n"
          ],
          "name": "stderr"
        },
        {
          "output_type": "execute_result",
          "data": {
            "text/plain": [
              "([],\n",
              " [125.237020611763,\n",
              "  122.37832236289978,\n",
              "  120.22852003574371,\n",
              "  117.68891429901123,\n",
              "  116.5314689874649])"
            ]
          },
          "metadata": {
            "tags": []
          },
          "execution_count": 33
        }
      ]
    },
    {
      "cell_type": "markdown",
      "metadata": {
        "id": "95At7rXXpFGv"
      },
      "source": [
        "После всех экспериментов которые вы проделали, выберите лучшую из своих моделей, запустите функцию evaluate. Эта функция должна брать на вход модель и даталоадер с валидационными данными и возврашать accuracy, посчитанную на этом датасете."
      ]
    },
    {
      "cell_type": "code",
      "metadata": {
        "id": "nOB1_0UCpFGv",
        "outputId": "a0d78b09-5059-431f-f6c2-a032bd2b3ad7",
        "colab": {
          "base_uri": "https://localhost:8080/"
        }
      },
      "source": [
        "all_losses, predicted_labels, true_labels = predict(model, val_dataloader, criterion, device)\n",
        "assert len(predicted_labels) == len(val_dataset)\n",
        "accuracy = accuracy_score(true_labels, predicted_labels)\n",
        "print(\"Оценка за это задание составит {} баллов\".format(min(5, 5*accuracy / 0.44)))"
      ],
      "execution_count": 34,
      "outputs": [
        {
          "output_type": "stream",
          "text": [
            "Accuracy_val: 58.2\n",
            "Оценка за это задание составит 5 баллов\n"
          ],
          "name": "stdout"
        }
      ]
    },
    {
      "cell_type": "markdown",
      "metadata": {
        "id": "L6l9h0LqpFGw"
      },
      "source": [
        "__Ваш отчёт о проделанных экспериментах__: сначала я писала модель сама, но оказалось, что качество выходит слишком низкое для задания, возможно, требовались серьезные усложнения, но не вышло. Если брать предобученный резнет, как в семинаре, и обучать его полностью, то качество оказывается хуже, кроме того, модель быстрее переобучается. Лучше всего зашла штука с предобученным резнетом18 и обучением последнего слоя, так модель дает наилучшее качество за 4-6 эпох, потом может начинать переобучаться. Очень, конечно, неожиданно, что семинарский вариант оказался настолько крут, но очень приятно:)\n",
        "\n",
        "Полученная accuracy вроде покрывает бонусное задание тоже - так было когда-то, но увы!"
      ]
    },
    {
      "cell_type": "markdown",
      "metadata": {
        "id": "sKlkN-qBpFGw"
      },
      "source": [
        "## Часть 2. Object detection.\n",
        "\n",
        "В этом задании потребуется обучить детектор фруктов на изображении. Датасет можно скачать [отсюда](https://yadi.sk/d/UPwQB7OZrB48qQ)."
      ]
    },
    {
      "cell_type": "code",
      "metadata": {
        "id": "Ec1PPobRpFGw"
      },
      "source": [
        "import pandas as pd\n",
        "import numpy as np\n",
        "import torch\n",
        "from torch import nn\n",
        "from torch.nn import functional as F\n",
        "from torch.utils.data import Dataset, DataLoader\n",
        "\n",
        "import albumentations as A\n",
        "import cv2"
      ],
      "execution_count": 50,
      "outputs": []
    },
    {
      "cell_type": "code",
      "metadata": {
        "id": "Q9osR9FGpFGw",
        "outputId": "2a75214b-f13e-4ee7-c748-d815df27365c",
        "colab": {
          "base_uri": "https://localhost:8080/"
        }
      },
      "source": [
        "# we will need this library to process the labeling\n",
        "! pip install xmltodict"
      ],
      "execution_count": 37,
      "outputs": [
        {
          "output_type": "stream",
          "text": [
            "Collecting xmltodict\n",
            "  Downloading https://files.pythonhosted.org/packages/28/fd/30d5c1d3ac29ce229f6bdc40bbc20b28f716e8b363140c26eff19122d8a5/xmltodict-0.12.0-py2.py3-none-any.whl\n",
            "Installing collected packages: xmltodict\n",
            "Successfully installed xmltodict-0.12.0\n"
          ],
          "name": "stdout"
        }
      ]
    },
    {
      "cell_type": "code",
      "metadata": {
        "id": "od604sOLpFGw"
      },
      "source": [
        "import xmltodict, json"
      ],
      "execution_count": 38,
      "outputs": []
    },
    {
      "cell_type": "markdown",
      "metadata": {
        "id": "HBod8rW1pFGw"
      },
      "source": [
        "Датасет мы за вас написали."
      ]
    },
    {
      "cell_type": "code",
      "metadata": {
        "id": "5L43ybMbpFGw"
      },
      "source": [
        "import pandas as pd\n",
        "import numpy as np\n",
        "import torch\n",
        "from torch import nn\n",
        "from torch.nn import functional as F\n",
        "from torch.utils.data import Dataset, DataLoader\n",
        "import xmltodict\n",
        "import json\n",
        "import glob\n",
        "import cv2\n",
        "import os\n",
        "import torchvision\n",
        "import matplotlib.pyplot as plt\n",
        "from sklearn.metrics import auc\n",
        "# add any imports you need\n",
        "\n",
        "class2tag = {\"apple\": 1, \"orange\": 2, \"banana\": 3}\n",
        "\n",
        "\n",
        "class FruitDataset(Dataset):\n",
        "    def __init__(self, data_dir, transform=None):\n",
        "        self.images = []\n",
        "        self.annotations = []\n",
        "        self.transform = transform\n",
        "        for annotation in glob.glob(data_dir + \"/*xml\"):\n",
        "            image_fname = os.path.splitext(annotation)[0] + \".jpg\"\n",
        "            self.images.append(cv2.cvtColor(cv2.imread(image_fname), cv2.COLOR_BGR2RGB))\n",
        "            with open(annotation) as f:\n",
        "                annotation_dict = xmltodict.parse(f.read())\n",
        "            bboxes = []\n",
        "            labels = []\n",
        "            objects = annotation_dict[\"annotation\"][\"object\"]\n",
        "            if not isinstance(objects, list):\n",
        "                objects = [objects]\n",
        "            for obj in objects:\n",
        "                bndbox = obj[\"bndbox\"]\n",
        "                bbox = [bndbox[\"xmin\"], bndbox[\"ymin\"], bndbox[\"xmax\"], bndbox[\"ymax\"]]\n",
        "                bbox = list(map(int, bbox))\n",
        "                bboxes.append(torch.tensor(bbox))\n",
        "                labels.append(class2tag[obj[\"name\"]])\n",
        "            self.annotations.append(\n",
        "                {\"boxes\": torch.stack(bboxes).float(), \"labels\": torch.tensor(labels)}\n",
        "            )\n",
        "\n",
        "    def __getitem__(self, i):\n",
        "        if self.transform:\n",
        "            # the following code is correct if you use albumentations\n",
        "            # if you use torchvision transforms you have to modify it =)\n",
        "            res = self.transform(\n",
        "                image=self.images[i],\n",
        "                bboxes=self.annotations[i][\"boxes\"],\n",
        "                labels=self.annotations[i][\"labels\"],\n",
        "            )\n",
        "            return res[\"image\"], {\n",
        "                \"boxes\": torch.tensor(res[\"bboxes\"]),\n",
        "                \"labels\": torch.tensor(res[\"labels\"]),\n",
        "            }\n",
        "        else:\n",
        "            return self.images[i], self.annotations[i]\n",
        "\n",
        "    def __len__(self):\n",
        "        return len(self.images)"
      ],
      "execution_count": 39,
      "outputs": []
    },
    {
      "cell_type": "markdown",
      "metadata": {
        "id": "ZJGI5nTSpFGw"
      },
      "source": [
        "Выпишем кое-какую техническую работу, которая уже была на семинаре."
      ]
    },
    {
      "cell_type": "code",
      "metadata": {
        "id": "H7eufXV8pFGw"
      },
      "source": [
        "def intersection_over_union(dt_bbox, gt_bbox):\n",
        "    \"\"\"\n",
        "    Intersection over Union between two bboxes\n",
        "    :param dt_bbox: list or numpy array of size (4,) [x0, y0, x1, y1]\n",
        "    :param gt_bbox: list or numpy array of size (4,) [x0, y0, x1, y1]\n",
        "    :return : intersection over union\n",
        "    \"\"\"\n",
        "\n",
        "    ## TODO YOUR CODE\n",
        "\n",
        "    intersection_bbox = np.array(\n",
        "        [\n",
        "            max(dt_bbox[0], gt_bbox[0]),\n",
        "            max(dt_bbox[1], gt_bbox[1]),\n",
        "            min(dt_bbox[2], gt_bbox[2]),\n",
        "            min(dt_bbox[3], gt_bbox[3]),\n",
        "        ]\n",
        "    )\n",
        "\n",
        "    intersection_area = max(intersection_bbox[2] - intersection_bbox[0], 0) * max(\n",
        "        intersection_bbox[3] - intersection_bbox[1], 0\n",
        "    )\n",
        "    area_dt = (dt_bbox[2] - dt_bbox[0]) * (dt_bbox[3] - dt_bbox[1])\n",
        "    area_gt = (gt_bbox[2] - gt_bbox[0]) * (gt_bbox[3] - gt_bbox[1])\n",
        "\n",
        "    union_area = area_dt + area_gt - intersection_area\n",
        "\n",
        "    iou = intersection_area / union_area\n",
        "    return iou\n",
        "\n",
        "def evaluate_sample(target_pred, target_true, iou_threshold=0.5):\n",
        "    gt_bboxes = target_true[\"boxes\"].numpy()\n",
        "    gt_labels = target_true[\"labels\"].numpy()\n",
        "\n",
        "    dt_bboxes = target_pred[\"boxes\"].numpy()\n",
        "    dt_labels = target_pred[\"labels\"].numpy()\n",
        "    dt_scores = target_pred[\"scores\"].numpy()\n",
        "\n",
        "    results = []\n",
        "    for detection_id in range(len(dt_labels)):\n",
        "        dt_bbox = dt_bboxes[detection_id, :]\n",
        "        dt_label = dt_labels[detection_id]\n",
        "        dt_score = dt_scores[detection_id]\n",
        "\n",
        "        detection_result_dict = {\"score\": dt_score}\n",
        "\n",
        "        max_IoU = 0\n",
        "        max_gt_id = -1\n",
        "        for gt_id in range(len(gt_labels)):\n",
        "            gt_bbox = gt_bboxes[gt_id, :]\n",
        "            gt_label = gt_labels[gt_id]\n",
        "\n",
        "            if gt_label != dt_label:\n",
        "                continue\n",
        "\n",
        "            if intersection_over_union(dt_bbox, gt_bbox) > max_IoU:\n",
        "                max_IoU = intersection_over_union(dt_bbox, gt_bbox)\n",
        "                max_gt_id = gt_id\n",
        "\n",
        "        if max_gt_id >= 0 and max_IoU >= iou_threshold:\n",
        "            detection_result_dict[\"TP\"] = 1\n",
        "            gt_labels = np.delete(gt_labels, max_gt_id, axis=0)\n",
        "            gt_bboxes = np.delete(gt_bboxes, max_gt_id, axis=0)\n",
        "\n",
        "        else:\n",
        "            detection_result_dict[\"TP\"] = 0\n",
        "\n",
        "        results.append(detection_result_dict)\n",
        "\n",
        "    return results\n",
        "\n",
        "\n",
        "def evaluate(model, test_loader, device):\n",
        "    results = []\n",
        "    model.eval()\n",
        "    nbr_boxes = 0\n",
        "    with torch.no_grad():\n",
        "        for batch, (images, targets_true) in enumerate(test_loader):\n",
        "            images = list(image.to(device).float() for image in images)\n",
        "            targets_pred = model(images)\n",
        "            targets_true = [\n",
        "                {k: v.cpu().float() for k, v in t.items()} for t in targets_true\n",
        "            ]\n",
        "            targets_pred = [\n",
        "                {k: v.cpu().float() for k, v in t.items()} for t in targets_pred\n",
        "            ]\n",
        "\n",
        "            for i in range(len(targets_true)):\n",
        "                target_true = targets_true[i]\n",
        "                target_pred = targets_pred[i]\n",
        "                nbr_boxes += target_true[\"labels\"].shape[0]\n",
        "\n",
        "                results.extend(evaluate_sample(target_pred, target_true))\n",
        "\n",
        "    results = sorted(results, key=lambda k: k[\"score\"], reverse=True)\n",
        "\n",
        "    acc_TP = np.zeros(len(results))\n",
        "    acc_FP = np.zeros(len(results))\n",
        "    recall = np.zeros(len(results))\n",
        "    precision = np.zeros(len(results))\n",
        "\n",
        "    if results[0][\"TP\"] == 1:\n",
        "        acc_TP[0] = 1\n",
        "    else:\n",
        "        acc_FP[0] = 1\n",
        "\n",
        "    for i in range(1, len(results)):\n",
        "        acc_TP[i] = results[i][\"TP\"] + acc_TP[i - 1]\n",
        "        acc_FP[i] = (1 - results[i][\"TP\"]) + acc_FP[i - 1]\n",
        "\n",
        "        precision[i] = acc_TP[i] / (acc_TP[i] + acc_FP[i])\n",
        "        recall[i] = acc_TP[i] / nbr_boxes\n",
        "\n",
        "    return auc(recall, precision)"
      ],
      "execution_count": 40,
      "outputs": []
    },
    {
      "cell_type": "markdown",
      "metadata": {
        "id": "jEEbZbAvpFGw"
      },
      "source": [
        "Вам мы оставляем творческую часть =)\n",
        "\n",
        "__Задание__. Обучите модель для object detection на __обучающем__ датасете и добейтесь PR-AUC не менее __0.91__ на  __тестовом__.\n",
        "\n",
        " - Создайте модель и оптимайзер\n",
        " - Напишите функцию обучения модели\n",
        " - Используйте аугментации\n",
        " \n",
        "Использовать аугментации для обучения __обязательно__. Они дадут 1 балл из 5. Пользуйтесь модулем torchvision.transforms или библиотекой albumentations (о которой говорилось ранее). Последняя библиотека особенно удобна, поскольку умеет сама вычислять новые координаты bounding box'ов после трансформаций картинки. Советуем обратить внимание на следующий [гайд](https://albumentations.ai/docs/getting_started/bounding_boxes_augmentation/). Обратите внимание, что код, написанный в датасете выше, верен только если вы используете albumentations. Если вы выбрали путь torchvision.transforms, вам потребуется метод `__getitem__` изменить (что-то типа `return self.transform(self.images[i])`; однако в таком случае вычислять новые координаты bounding box'ов после трансформаций вам придётся вручную =))\n",
        "\n",
        "Оставшиеся 4 балла вычисляются по простой формуле: __min(4, 4 * Ваш auc / 0.91)__."
      ]
    },
    {
      "cell_type": "markdown",
      "metadata": {
        "id": "yhfycBjGE4vZ"
      },
      "source": [
        "______________________________________________________________________________________\n",
        "Я снова тырю семинарский код (и не надо меня за это осуждать!), но теперь он из 7ого семинара))"
      ]
    },
    {
      "cell_type": "code",
      "metadata": {
        "id": "XRNCvkHkpFGw"
      },
      "source": [
        "def train_one_epoch(model, train_dataloader, optimizer, device):\n",
        "    model.train()\n",
        "    n = 0\n",
        "    global_loss = 0\n",
        "    for images, targets in train_dataloader:\n",
        "        images = list(image.to(device).float() for image in images)\n",
        "        targets = [{k: v.to(device) for k, v in t.items()} for t in targets]\n",
        "\n",
        "        # Берем результаты модели и считаем лоссы\n",
        "        dict_loss = model(images, targets)\n",
        "        losses = sum(loss for loss in dict_loss.values())\n",
        "\n",
        "        # Уже наскучившие шаги оптимайзера, но как же плохо бывает, если о них забыть...\n",
        "        optimizer.zero_grad()\n",
        "        losses.backward()\n",
        "        optimizer.step()\n",
        "\n",
        "        # Добавляем поинт счетчику и закидываем лоссы в общую переменную\n",
        "        n += 1\n",
        "        global_loss += float(losses.cpu().detach().numpy())\n",
        "\n",
        "        # Для красоты показываем суммарный лосс на каждых 10 батчах\n",
        "        if n % 10 == 0:\n",
        "            print(\"Loss value after {} batches is {}\".format(n, round(global_loss / n, 2)))\n",
        "\n",
        "    return global_loss\n",
        "\n",
        "\n",
        "def train(model, train_dataloader, val_dataloader, optimizer, device, n_epochs=10):\n",
        "    for epoch in range(n_epochs):\n",
        "        model.eval()\n",
        "        a = evaluate(model, val_dataloader, device=device)\n",
        "        print(\"AUC ON TEST: {.4f}\".format(a))\n",
        "        model.train()\n",
        "        train_one_epoch(model, dataloader, optimizer, device=device)"
      ],
      "execution_count": 48,
      "outputs": []
    },
    {
      "cell_type": "code",
      "metadata": {
        "id": "c8rjVeXWg9qf",
        "outputId": "daa70eb9-ad85-4963-df82-a7b370c2c1bb",
        "colab": {
          "base_uri": "https://localhost:8080/"
        }
      },
      "source": [
        "! wget https://www.dropbox.com/s/n78oukv0xj1v02y/archive.zip?dl=0\n",
        "! unzip -q archive.zip?dl=0"
      ],
      "execution_count": 42,
      "outputs": [
        {
          "output_type": "stream",
          "text": [
            "--2020-11-25 17:51:01--  https://www.dropbox.com/s/n78oukv0xj1v02y/archive.zip?dl=0\n",
            "Resolving www.dropbox.com (www.dropbox.com)... 162.125.1.1, 2620:100:6016:1::a27d:101\n",
            "Connecting to www.dropbox.com (www.dropbox.com)|162.125.1.1|:443... connected.\n",
            "HTTP request sent, awaiting response... 301 Moved Permanently\n",
            "Location: /s/raw/n78oukv0xj1v02y/archive.zip [following]\n",
            "--2020-11-25 17:51:01--  https://www.dropbox.com/s/raw/n78oukv0xj1v02y/archive.zip\n",
            "Reusing existing connection to www.dropbox.com:443.\n",
            "HTTP request sent, awaiting response... 302 Found\n",
            "Location: https://uc9aa48bcf6bcb4b835341fd0b18.dl.dropboxusercontent.com/cd/0/inline/BD5CmCm5G5phMxHPE7yFiCocIa7vYRNiznzuEMuf_bgw5iukAVil14Q0ylLtaUjrog_HH7FvKU6OxYnZ9nlhkV9gw1BMaP8rCJZZp_oHcqMnI8v-Xk_yDvNqai_gdVG92bA/file# [following]\n",
            "--2020-11-25 17:51:02--  https://uc9aa48bcf6bcb4b835341fd0b18.dl.dropboxusercontent.com/cd/0/inline/BD5CmCm5G5phMxHPE7yFiCocIa7vYRNiznzuEMuf_bgw5iukAVil14Q0ylLtaUjrog_HH7FvKU6OxYnZ9nlhkV9gw1BMaP8rCJZZp_oHcqMnI8v-Xk_yDvNqai_gdVG92bA/file\n",
            "Resolving uc9aa48bcf6bcb4b835341fd0b18.dl.dropboxusercontent.com (uc9aa48bcf6bcb4b835341fd0b18.dl.dropboxusercontent.com)... 162.125.1.15, 2620:100:6016:15::a27d:10f\n",
            "Connecting to uc9aa48bcf6bcb4b835341fd0b18.dl.dropboxusercontent.com (uc9aa48bcf6bcb4b835341fd0b18.dl.dropboxusercontent.com)|162.125.1.15|:443... connected.\n",
            "HTTP request sent, awaiting response... 302 Found\n",
            "Location: /cd/0/inline2/BD4IeDo2FRaGrRPjE0a4v3R2kUuimVwomGEswhjkARGwGxgf-vFsrU-pTOeuuXYy4PmkNOHkPXizITCgVr6pMpoR-klu8XmXHZQ0PPaHbYQSnNcPfqmNDjTsa7DFaWKANNLAWUVcN_O67dzyHVun6y6ec4erNU3WoU8f1bFGXmJ1m5QUKbumgmnwoaWRU0YKCGSDtxfz0EWwyS_dngwdGoPVs9i1H5lQnz7R83E3rbqdsxFOp4Ling4fiOv5RoN_pxl3NgnDSXgaiVt2VOQA_f3n4Wj1gwpzEzPC9Lt6zNTNg7Muuy6pVDhdvwEbFVBcKgedn8zpulEhxSrXejtJcMaVFEPgLmfd3lCC_2d2OdstcA/file [following]\n",
            "--2020-11-25 17:51:02--  https://uc9aa48bcf6bcb4b835341fd0b18.dl.dropboxusercontent.com/cd/0/inline2/BD4IeDo2FRaGrRPjE0a4v3R2kUuimVwomGEswhjkARGwGxgf-vFsrU-pTOeuuXYy4PmkNOHkPXizITCgVr6pMpoR-klu8XmXHZQ0PPaHbYQSnNcPfqmNDjTsa7DFaWKANNLAWUVcN_O67dzyHVun6y6ec4erNU3WoU8f1bFGXmJ1m5QUKbumgmnwoaWRU0YKCGSDtxfz0EWwyS_dngwdGoPVs9i1H5lQnz7R83E3rbqdsxFOp4Ling4fiOv5RoN_pxl3NgnDSXgaiVt2VOQA_f3n4Wj1gwpzEzPC9Lt6zNTNg7Muuy6pVDhdvwEbFVBcKgedn8zpulEhxSrXejtJcMaVFEPgLmfd3lCC_2d2OdstcA/file\n",
            "Reusing existing connection to uc9aa48bcf6bcb4b835341fd0b18.dl.dropboxusercontent.com:443.\n",
            "HTTP request sent, awaiting response... 200 OK\n",
            "Length: 29997026 (29M) [application/zip]\n",
            "Saving to: ‘archive.zip?dl=0.1’\n",
            "\n",
            "archive.zip?dl=0.1  100%[===================>]  28.61M  70.0MB/s    in 0.4s    \n",
            "\n",
            "2020-11-25 17:51:03 (70.0 MB/s) - ‘archive.zip?dl=0.1’ saved [29997026/29997026]\n",
            "\n"
          ],
          "name": "stdout"
        }
      ]
    },
    {
      "cell_type": "code",
      "metadata": {
        "id": "dIr2lQUWpFGx"
      },
      "source": [
        "# В условиях есть гайд к аугментациям, я им сильно воспользовалась дальше\n",
        "train_transform = A.Compose([\n",
        "                             A.RandomCrop(width=450, height=450), # с парикмахерами обычно так, говоришь им \"мне пару см\", а они тебе RandomCrop\n",
        "                             A.HorizontalFlip(p=0.5), # гуччи флип флап, немного поворочаем эту картинку\n",
        "                             A.RandomBrightnessContrast(p=0.2), # ммм шайн брайт лайк э даймонд, даже если ты всего лишь имэйдж\n",
        "                         ], bbox_params=A.BboxParams(format='coco', min_area=1024, min_visibility=0.1, label_fields=['class_labels']))\n",
        "val_transform = # YOUR CODE FOR VALIDATION AUGMENTATIONS\n",
        "# HINT: TRAIN TRANSFORM OBVIOUSLY SHOULD BE HARDER THAN THOSE FOR VALIDATION\n",
        "\n",
        "train_dataset = FruitDataset(\"./train_zip/train\", transform=train_transform)\n",
        "val_dataset = FruitDataset(\"./train_zip/test\", transform=val_transform)\n",
        "\n",
        "model = # YOUR CODE, CREATE MODEL FOR OBJECT DETECTION\n",
        "# HINT: USE MATERIALS FROM THE SEMINAR\n",
        "# YOU CAN USE torchvision.models AND torchvision.models.detection\n",
        "# READ OFFICIAL DOCS FOR MORE INFO\n",
        "\n",
        "optimizer = # SELECT YOUR OPTIMIZER\n",
        "train_dataloader = # CREATE YOUR DATALOADER, SELECT APPROPRIATE batch_size\n",
        "val_dataloader = # CREATE VALIDATION DATALOADER\n",
        "n_epochs = # SELECT APPROPRIZTE NUMBER OF EPOCHS\n",
        "device = torch.device(\"cuda:0\") if torch.cuda.is_available() else torch.device(\"cpu\")\n",
        "\n",
        "train(model, train_dataloader, val_dataloader, optimizer, device, n_epochs)"
      ],
      "execution_count": null,
      "outputs": []
    },
    {
      "cell_type": "markdown",
      "metadata": {
        "id": "E_p-UT-hpFGx"
      },
      "source": [
        "__Выведите итоговое качество модели__."
      ]
    },
    {
      "cell_type": "code",
      "metadata": {
        "id": "jqqYBSdppFGx"
      },
      "source": [
        "auc = evaluate(model, val_dataloader, criterion)\n",
        "print(\"Оценка за это задание составит {} баллов\".format(min(4, 4 * auc / 0.91)))"
      ],
      "execution_count": null,
      "outputs": []
    },
    {
      "cell_type": "markdown",
      "metadata": {
        "id": "a5ZC8g-8pFGx"
      },
      "source": [
        "Нарисуйте предсказанные bounding box'ы для любых двух картинок из __тестового__ датасета."
      ]
    },
    {
      "cell_type": "code",
      "metadata": {
        "id": "3sfhCc-zpFGx"
      },
      "source": [
        "image, labels = next(iter(train_dataset))\n",
        "pred = model(image.unsqueeze(0).to(device))[0]"
      ],
      "execution_count": null,
      "outputs": []
    },
    {
      "cell_type": "code",
      "metadata": {
        "id": "rQWL_qsspFGx"
      },
      "source": [
        "from PIL import ImageDraw\n",
        "\n",
        "image = torchvision.transform.ToPILImage()(image)\n",
        "draw = ImageDraw.Draw(image)\n",
        "for box in labels['boxes']:\n",
        "    draw.rectangle([(box[0], box[1]), (box[2], box[3])])\n",
        "    \n",
        "for box in pred['boxes']:\n",
        "    draw.rectangle([(box[0], box[1]), (box[2], box[3])], outline='red')\n",
        "image"
      ],
      "execution_count": null,
      "outputs": []
    },
    {
      "cell_type": "markdown",
      "metadata": {
        "id": "3nfPzVqapFGx"
      },
      "source": [
        "## Бонус (10 баллов).\n",
        "\n",
        "__Задание__. В части с классификацией добейтесь accuracy не менее 0.52. Напишите отчёт о проделанных экспериментах.\n",
        "\n",
        "__Критерии оценки__. Оценка за бонусную часть равна 10, если вы преодолели качество 0.52 и 0 в противном случае.\n",
        "\n",
        "__Иных оценок кроме 0 и 10 не предусмотрено__."
      ]
    },
    {
      "cell_type": "code",
      "metadata": {
        "id": "3xVeYp-9pFGx"
      },
      "source": [
        "# YOUR CODE"
      ],
      "execution_count": null,
      "outputs": []
    },
    {
      "cell_type": "markdown",
      "metadata": {
        "id": "qRsC8F2HpFGx"
      },
      "source": [
        "## Бонус (0 баллов).\n",
        "\n",
        "__Задание 1__. Скиньте ниже смешную картинку, желательно про машинное обучение. На картинке не должно быть никаких упоминаний лектора, семинаристов и ассистентов этого курса.\n",
        "\n",
        "__Задание 2__. Расскажите, как вам задание? Что понравилось, что не понравилось, что можно улучшить? Мы примем во внимание любой фидбек."
      ]
    }
  ]
}